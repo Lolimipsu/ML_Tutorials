{
  "cells": [
    {
      "cell_type": "markdown",
      "source": [
        "## Prerequisites\n",
        "---\n"
      ],
      "metadata": {
        "id": "GF0_dzyy-NFz"
      }
    },
    {
      "cell_type": "code",
      "source": [
        "!pip install ydata-profiling\n",
        "!pip install plotly"
      ],
      "metadata": {
        "id": "5HU7bxBq3kPs"
      },
      "execution_count": null,
      "outputs": []
    },
    {
      "cell_type": "code",
      "source": [
        "!wget https://raw.githubusercontent.com/Lolimipsu/ML_Tutorials/refs/heads/main/freecodecamp/Page%20View%20Time%20Series%20Visualizer/fcc-forum-pageviews.csv"
      ],
      "metadata": {
        "id": "KvKRuYE-VppM"
      },
      "execution_count": null,
      "outputs": []
    },
    {
      "cell_type": "code",
      "source": [
        "import pandas as pd\n",
        "import seaborn as sns\n",
        "import matplotlib.pyplot as plt\n",
        "import numpy as np\n",
        "\n",
        "import plotly.express as px\n",
        "from ydata_profiling import ProfileReport"
      ],
      "metadata": {
        "id": "6fICUbelI2gq"
      },
      "execution_count": null,
      "outputs": []
    },
    {
      "cell_type": "code",
      "source": [
        "from IPython.display import display\n",
        "pd.options.display.max_columns = None"
      ],
      "metadata": {
        "id": "EtDHWMTqjeVD"
      },
      "execution_count": null,
      "outputs": []
    },
    {
      "cell_type": "markdown",
      "source": [
        "## Task\n",
        "---"
      ],
      "metadata": {
        "id": "gZo2Hmm7-Wr5"
      }
    },
    {
      "cell_type": "code",
      "source": [
        "import matplotlib.pyplot as plt\n",
        "import pandas as pd\n",
        "import seaborn as sns\n",
        "from pandas.plotting import register_matplotlib_converters\n",
        "register_matplotlib_converters()\n",
        "\n",
        "from datetime import datetime"
      ],
      "metadata": {
        "id": "wzZfmwW6CBBH"
      },
      "execution_count": null,
      "outputs": []
    },
    {
      "cell_type": "markdown",
      "source": [
        "Use Pandas to import the data from fcc-forum-pageviews.csv. Set the index to the date column."
      ],
      "metadata": {
        "id": "3X5MXtCCW-N7"
      }
    },
    {
      "cell_type": "code",
      "source": [
        "def parse_date(x):\n",
        "  for fmt in ('%m-%d-Y', '%d %m %Y', '%Y-%m-%d'):\n",
        "    try:\n",
        "      return datetime.strptime(x, fmt)\n",
        "    except ValueError:\n",
        "      continue\n",
        "  raise ValueError(f'No valid date format found for {x}')\n",
        "\n",
        "\n",
        "df = pd.read_csv(\n",
        "    'fcc-forum-pageviews.csv',\n",
        "    index_col = ['date'],\n",
        "    parse_dates=['date'],\n",
        "    date_parser=parse_date\n",
        ")"
      ],
      "metadata": {
        "id": "XMao0a_U-s0Z"
      },
      "execution_count": null,
      "outputs": []
    },
    {
      "cell_type": "markdown",
      "source": [
        " Clean the data by filtering out days when the page views were in the top 2.5% of the dataset or bottom 2.5% of the dataset."
      ],
      "metadata": {
        "id": "ruWYCtK8T0vs"
      }
    },
    {
      "cell_type": "code",
      "source": [
        "df = df.loc[\n",
        "    (df['value'] >= df['value'].quantile(0.025)) &\n",
        "    (df['value'] <= df['value'].quantile(0.975))\n",
        "]"
      ],
      "metadata": {
        "id": "t2EKnwFrO4a7"
      },
      "execution_count": null,
      "outputs": []
    },
    {
      "cell_type": "markdown",
      "source": [
        "Create a draw_line_plot function that uses Matplotlib to draw a line chart similar to examples/Figure_1.png."
      ],
      "metadata": {
        "id": "uW7C3maETyOC"
      }
    },
    {
      "cell_type": "code",
      "source": [
        "def draw_line_plot():\n",
        "    # Draw line plot\n",
        "    fig, ax = plt.subplots(figsize=(18,6))\n",
        "\n",
        "    ax = sns.lineplot(data=df, x='date', y='value', color='green')\n",
        "    ax.set(\n",
        "        xlabel='Date',\n",
        "        ylabel='Page views'\n",
        "    )\n",
        "\n",
        "    ax.set_title('Daily freeCodeCamp Forum Page Views 5/2016-12/2019')\n",
        "    # Save image and return fig (don't change this part)\n",
        "    fig.savefig('line_plot.png')\n",
        "    return fig"
      ],
      "metadata": {
        "id": "UThjdapiTypV"
      },
      "execution_count": null,
      "outputs": []
    },
    {
      "cell_type": "code",
      "source": [
        "draw_line_plot()"
      ],
      "metadata": {
        "id": "MiB4MBQ3VBaQ"
      },
      "execution_count": null,
      "outputs": []
    },
    {
      "cell_type": "markdown",
      "source": [
        " Create a draw_bar_plot function that draws a bar chart similar to examples/Figure_2.png."
      ],
      "metadata": {
        "id": "ZmCOAyB8pu68"
      }
    },
    {
      "cell_type": "code",
      "source": [
        "def draw_bar_plot():\n",
        "    # Copy and modify data for monthly bar plot\n",
        "    df_bar = df.copy()\n",
        "    df_bar['year'] = df_bar.index.year\n",
        "    df_bar['month'] = df_bar.index.month\n",
        "\n",
        "    df_bar = df_bar.groupby(['year', 'month'])['value'].mean().unstack()\n",
        "\n",
        "    # Draw bar plot\n",
        "    fig, ax = plt.subplots(figsize=(15, 10))\n",
        "    df_bar.plot(kind='bar', ax=ax)\n",
        "\n",
        "    ax.set_xlabel('Years')\n",
        "    ax.set_ylabel('Average Page Views')\n",
        "    ax.legend(\n",
        "        title='Months',\n",
        "        labels=[\n",
        "            'January', 'February', 'March', 'April', 'May', 'June',\n",
        "            'July', 'August', 'September', 'October', 'November', 'December'\n",
        "        ]\n",
        "    )\n",
        "\n",
        "    # Save image and return fig (don't change this part)\n",
        "    fig.savefig('bar_plot.png')\n",
        "    return fig\n"
      ],
      "metadata": {
        "id": "bkniCdg5doGE"
      },
      "execution_count": null,
      "outputs": []
    },
    {
      "cell_type": "code",
      "source": [
        "draw_bar_plot()"
      ],
      "metadata": {
        "id": "5hOs9Mmlg2Vn"
      },
      "execution_count": null,
      "outputs": []
    },
    {
      "cell_type": "markdown",
      "source": [
        "Create a draw_box_plot function that uses Seaborn to draw two adjacent box plots similar to examples/Figure_3.png"
      ],
      "metadata": {
        "id": "SxpwDwaGpqMk"
      }
    },
    {
      "cell_type": "code",
      "source": [],
      "metadata": {
        "id": "eluy_VEXpqlh"
      },
      "execution_count": null,
      "outputs": []
    },
    {
      "cell_type": "markdown",
      "source": [
        "## Code Submission\n",
        "---"
      ],
      "metadata": {
        "id": "2J5inn9DLkQQ"
      }
    },
    {
      "cell_type": "code",
      "source": [
        "import matplotlib.pyplot as plt\n",
        "import pandas as pd\n",
        "import seaborn as sns\n",
        "from pandas.plotting import register_matplotlib_converters\n",
        "register_matplotlib_converters()\n",
        "\n",
        "# Import data (Make sure to parse dates. Consider setting index column to 'date'.)\n",
        "df = None\n",
        "\n",
        "# Clean data\n",
        "df = None\n",
        "\n",
        "\n",
        "def draw_line_plot():\n",
        "    # Draw line plot\n",
        "\n",
        "\n",
        "\n",
        "\n",
        "\n",
        "    # Save image and return fig (don't change this part)\n",
        "    fig.savefig('line_plot.png')\n",
        "    return fig\n",
        "\n",
        "def draw_bar_plot():\n",
        "    # Copy and modify data for monthly bar plot\n",
        "    df_bar = None\n",
        "\n",
        "    # Draw bar plot\n",
        "\n",
        "\n",
        "\n",
        "\n",
        "\n",
        "    # Save image and return fig (don't change this part)\n",
        "    fig.savefig('bar_plot.png')\n",
        "    return fig\n",
        "\n",
        "def draw_box_plot():\n",
        "    # Prepare data for box plots (this part is done!)\n",
        "    df_box = df.copy()\n",
        "    df_box.reset_index(inplace=True)\n",
        "    df_box['year'] = [d.year for d in df_box.date]\n",
        "    df_box['month'] = [d.strftime('%b') for d in df_box.date]\n",
        "\n",
        "    # Draw box plots (using Seaborn)\n",
        "\n",
        "\n",
        "\n",
        "\n",
        "\n",
        "    # Save image and return fig (don't change this part)\n",
        "    fig.savefig('box_plot.png')\n",
        "    return fig\n"
      ],
      "metadata": {
        "id": "s3edEbgiLjwQ"
      },
      "execution_count": null,
      "outputs": []
    },
    {
      "cell_type": "markdown",
      "source": [
        "## Dataset analysis\n",
        "---"
      ],
      "metadata": {
        "id": "Ey5fgWiiWOps"
      }
    },
    {
      "cell_type": "code",
      "source": [
        "profiling = pd.read_csv('fcc-forum-pageviews.csv')"
      ],
      "metadata": {
        "id": "p0a4XMTdKSaW"
      },
      "execution_count": null,
      "outputs": []
    },
    {
      "cell_type": "code",
      "source": [
        "profiling.info()"
      ],
      "metadata": {
        "id": "8SXs19tbDigg"
      },
      "execution_count": null,
      "outputs": []
    },
    {
      "cell_type": "code",
      "source": [
        "profile = ProfileReport(profiling, title=\"Pandas Profiling Report\")\n",
        "profile"
      ],
      "metadata": {
        "id": "S2BSddup3r0g"
      },
      "execution_count": null,
      "outputs": []
    }
  ],
  "metadata": {
    "kernelspec": {
      "display_name": "Python 3",
      "language": "python",
      "name": "python3"
    },
    "language_info": {
      "codemirror_mode": {
        "name": "ipython",
        "version": 3
      },
      "file_extension": ".py",
      "mimetype": "text/x-python",
      "name": "python",
      "nbconvert_exporter": "python",
      "pygments_lexer": "ipython3",
      "version": "3.7.3"
    },
    "colab": {
      "provenance": []
    }
  },
  "nbformat": 4,
  "nbformat_minor": 0
}