{
  "cells": [
    {
      "cell_type": "code",
      "source": [
        "!pip install ydata-profiling\n",
        "!pip install plotly\n"
      ],
      "metadata": {
        "id": "5HU7bxBq3kPs"
      },
      "execution_count": null,
      "outputs": []
    },
    {
      "cell_type": "code",
      "source": [
        "import numpy as np\n",
        "import pandas as pd\n",
        "import matplotlib.pyplot as plt\n",
        "import plotly.express as px\n",
        "from ydata_profiling import ProfileReport"
      ],
      "metadata": {
        "id": "6fICUbelI2gq"
      },
      "execution_count": null,
      "outputs": []
    },
    {
      "cell_type": "code",
      "source": [
        "from IPython.display import display\n",
        "pd.options.display.max_columns = None"
      ],
      "metadata": {
        "id": "EtDHWMTqjeVD"
      },
      "execution_count": null,
      "outputs": []
    },
    {
      "cell_type": "code",
      "source": [
        "df = pd.read_csv('adult.data.csv')"
      ],
      "metadata": {
        "id": "p0a4XMTdKSaW"
      },
      "execution_count": null,
      "outputs": []
    },
    {
      "cell_type": "code",
      "source": [
        "profile = ProfileReport(df, title=\"Pandas Profiling Report\")\n",
        "profile"
      ],
      "metadata": {
        "id": "S2BSddup3r0g"
      },
      "execution_count": null,
      "outputs": []
    },
    {
      "cell_type": "markdown",
      "source": [
        "Task:\n",
        "What country has the highest percentage of people that earn >50K and what is that percentage?"
      ],
      "metadata": {
        "id": "DINM6wbmE9Pg"
      }
    },
    {
      "cell_type": "code",
      "source": [
        "# Step 1: Filter the DataFrame to include only advanced education levels\n",
        "advanced_education = ['Bachelors', 'Masters', 'Doctorate']\n",
        "df_advanced = df[df['education'].isin(advanced_education)]\n",
        "\n",
        "total_advanced = len(df_advanced)\n",
        "\n",
        "high_salary_advanced = len(df_advanced[df_advanced['salary'] == '>50K'])\n",
        "percentage_high_salary_advanced = (high_salary_advanced / total_advanced) * 100"
      ],
      "metadata": {
        "id": "_UL6ZuXMLUmB"
      },
      "execution_count": null,
      "outputs": []
    },
    {
      "cell_type": "code",
      "source": [
        "# filtered_salary_df = df[(df['salary'] == '>50K')]\n",
        "# country_percentage = filtered_salary_df['native-country'].value_counts() / df['native-country'].value_counts() * 100\n",
        "\n",
        "\n",
        "\n",
        "\n",
        "\n",
        "high_edu"
      ],
      "metadata": {
        "id": "AWPFUP7ASno4"
      },
      "execution_count": null,
      "outputs": []
    },
    {
      "cell_type": "markdown",
      "source": [
        "---"
      ],
      "metadata": {
        "id": "2J5inn9DLkQQ"
      }
    },
    {
      "cell_type": "code",
      "source": [
        "def calculate_demographic_data(print_data=True):\n",
        "    # Read data from file\n",
        "    df = pd.read_csv('adult.data.csv')\n",
        "\n",
        "    # How many of each race are represented in this dataset? This should be a Pandas series with race names as the index labels.\n",
        "    race_count = df['race'].value_counts()\n",
        "\n",
        "    # What is the average age of men?\n",
        "    average_age_men = df[df.sex=='Male']['age'].mean()\n",
        "\n",
        "    # What is the percentage of people who have a Bachelor's degree?\n",
        "    percentage_bachelors = (df['education'] == 'Bachelors').sum() / len(df) * 100\n",
        "\n",
        "    # What percentage of people with advanced education (`Bachelors`, `Masters`, or `Doctorate`) make more than 50K?\n",
        "    # What percentage of people without advanced education make more than 50K?\n",
        "\n",
        "    # with and without `Bachelors`, `Masters`, or `Doctorate`\n",
        "\n",
        "    advanced_education = ['Bachelors', 'Masters', 'Doctorate']\n",
        "    df_edu = len(df.education)\n",
        "\n",
        "    df_advanced = df[df['education'].isin(advanced_education)]\n",
        "    total_advanced = len(df_advanced)\n",
        "    high_edu = total_advanced / df_edu  * 100\n",
        "\n",
        "    higher_education = high_edu\n",
        "\n",
        "    df_non_advanced = df[~df['education'].isin(advanced_education)]\n",
        "    total_non_advanced = len(df_advanced)\n",
        "    low_edu = total_non_advanced / df_edu  * 100\n",
        "\n",
        "    lower_education = low_edu\n",
        "\n",
        "    # percentage with salary >50K\n",
        "    higher_education_rich = None\n",
        "    lower_education_rich = None\n",
        "\n",
        "    # What is the minimum number of hours a person works per week (hours-per-week feature)?\n",
        "    min_work_hours = df['hours-per-week'].min()\n",
        "\n",
        "    # What percentage of the people who work the minimum number of hours per week have a salary of >50K?\n",
        "    num_min_workers = None\n",
        "\n",
        "    rich_percentage = None\n",
        "\n",
        "    # What country has the highest percentage of people that earn >50K?\n",
        "    filtered_salary_df = df[(df['salary'] == '>50K')]\n",
        "    country_percentage = filtered_salary_df['native-country'].value_counts() / df['native-country'].value_counts() * 100\n",
        "\n",
        "    highest_earning_country = country_percentage.idxmax()\n",
        "    highest_earning_country_percentage = country_percentage.max()\n",
        "\n",
        "\n",
        "    # Identify the most popular occupation for those who earn >50K in India.\n",
        "    filtered_occupation_df = df[(df['salary'] == '>50K') & (df['native-country'] == 'India')]\n",
        "\n",
        "    top_IN_occupation = filtered_occupation_df['occupation'].value_counts().idxmax()\n",
        "\n",
        "    # DO NOT MODIFY BELOW THIS LINE\n",
        "\n",
        "    if print_data:\n",
        "        print(\"Number of each race:\\n\", race_count)\n",
        "        print(\"Average age of men:\", average_age_men)\n",
        "        print(f\"Percentage with Bachelors degrees: {percentage_bachelors}%\")\n",
        "        print(f\"Percentage with higher education that earn >50K: {higher_education_rich}%\")\n",
        "        print(f\"Percentage without higher education that earn >50K: {lower_education_rich}%\")\n",
        "        print(f\"Min work time: {min_work_hours} hours/week\")\n",
        "        print(f\"Percentage of rich among those who work fewest hours: {rich_percentage}%\")\n",
        "        print(\"Country with highest percentage of rich:\", highest_earning_country)\n",
        "        print(f\"Highest percentage of rich people in country: {highest_earning_country_percentage}%\")\n",
        "        print(\"Top occupations in India:\", top_IN_occupation)\n",
        "\n",
        "    return {\n",
        "        'race_count': race_count,\n",
        "        'average_age_men': average_age_men,\n",
        "        'percentage_bachelors': percentage_bachelors,\n",
        "        'higher_education_rich': higher_education_rich,\n",
        "        'lower_education_rich': lower_education_rich,\n",
        "        'min_work_hours': min_work_hours,\n",
        "        'rich_percentage': rich_percentage,\n",
        "        'highest_earning_country': highest_earning_country,\n",
        "        'highest_earning_country_percentage':\n",
        "        highest_earning_country_percentage,\n",
        "        'top_IN_occupation': top_IN_occupation\n",
        "    }\n"
      ],
      "metadata": {
        "id": "s3edEbgiLjwQ"
      },
      "execution_count": null,
      "outputs": []
    }
  ],
  "metadata": {
    "kernelspec": {
      "display_name": "Python 3",
      "language": "python",
      "name": "python3"
    },
    "language_info": {
      "codemirror_mode": {
        "name": "ipython",
        "version": 3
      },
      "file_extension": ".py",
      "mimetype": "text/x-python",
      "name": "python",
      "nbconvert_exporter": "python",
      "pygments_lexer": "ipython3",
      "version": "3.7.3"
    },
    "colab": {
      "provenance": []
    }
  },
  "nbformat": 4,
  "nbformat_minor": 0
}