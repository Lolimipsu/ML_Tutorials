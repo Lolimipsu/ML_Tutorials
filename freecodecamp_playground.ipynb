{
  "cells": [
    {
      "cell_type": "markdown",
      "source": [
        "## Prerequisites\n",
        "---\n"
      ],
      "metadata": {
        "id": "GF0_dzyy-NFz"
      }
    },
    {
      "cell_type": "code",
      "source": [
        "!pip install ydata-profiling\n",
        "!pip install plotly\n"
      ],
      "metadata": {
        "id": "5HU7bxBq3kPs"
      },
      "execution_count": null,
      "outputs": []
    },
    {
      "cell_type": "code",
      "source": [
        "!wget https://raw.githubusercontent.com/Lolimipsu/ML_Tutorials/refs/heads/main/freecodecamp/Medical%20Data%20Visualizer/medical_examination.csv"
      ],
      "metadata": {
        "id": "KvKRuYE-VppM"
      },
      "execution_count": null,
      "outputs": []
    },
    {
      "cell_type": "code",
      "source": [
        "import pandas as pd\n",
        "import seaborn as sns\n",
        "import matplotlib.pyplot as plt\n",
        "import numpy as np\n",
        "\n",
        "import plotly.express as px\n",
        "from ydata_profiling import ProfileReport"
      ],
      "metadata": {
        "id": "6fICUbelI2gq"
      },
      "execution_count": null,
      "outputs": []
    },
    {
      "cell_type": "code",
      "source": [
        "from IPython.display import display\n",
        "pd.options.display.max_columns = None"
      ],
      "metadata": {
        "id": "EtDHWMTqjeVD"
      },
      "execution_count": null,
      "outputs": []
    },
    {
      "cell_type": "markdown",
      "source": [
        "## Task\n",
        "---"
      ],
      "metadata": {
        "id": "gZo2Hmm7-Wr5"
      }
    },
    {
      "cell_type": "markdown",
      "source": [
        "Import the data from medical_examination.csv and assign it to the df variable."
      ],
      "metadata": {
        "id": "3X5MXtCCW-N7"
      }
    },
    {
      "cell_type": "code",
      "source": [
        "df = pd.read_csv('medical_examination.csv')"
      ],
      "metadata": {
        "id": "XMao0a_U-s0Z"
      },
      "execution_count": null,
      "outputs": []
    },
    {
      "cell_type": "markdown",
      "source": [
        "Add an overweight column to the data. To determine if a person is overweight, first calculate their BMI by dividing their weight in kilograms by the square of their height in meters. If that value is > 25 then the person is overweight. Use the value 0 for NOT overweight and the value 1 for overweight."
      ],
      "metadata": {
        "id": "3c7S9OjLS8bY"
      }
    },
    {
      "cell_type": "code",
      "source": [
        "#getting bmi\n",
        "df['overweight'] = df['weight'] / (df['height'] / 100) **2\n",
        "df['overweight'] = df['overweight'].apply(lambda x: 1 if x > 25 else 0)"
      ],
      "metadata": {
        "id": "s3QFK2K4CjGN"
      },
      "execution_count": null,
      "outputs": []
    },
    {
      "cell_type": "markdown",
      "source": [
        "Normalize data by making 0 always good and 1 always bad. If the value of cholesterol or gluc is 1, set the value to 0. If the value is more than 1, set the value to 1."
      ],
      "metadata": {
        "id": "LaD4F4F6QY-c"
      }
    },
    {
      "cell_type": "code",
      "source": [
        "df['cholesterol'] = df['cholesterol'].apply(lambda x: 0 if x == 1 else 1 if x > 1 else 1)\n",
        "df['gluc'] = df['gluc'].apply(lambda x: 0 if x == 1 else 1 if x > 1 else 1)"
      ],
      "metadata": {
        "id": "v1rq8glHQHvu"
      },
      "execution_count": null,
      "outputs": []
    },
    {
      "cell_type": "markdown",
      "source": [
        "Draw the Categorical Plot in the draw_cat_plot function."
      ],
      "metadata": {
        "id": "CBj8QUZfWrNJ"
      }
    },
    {
      "cell_type": "code",
      "source": [
        "# 4\n",
        "def draw_cat_plot():\n",
        "    # 5\n",
        "    df_cat = pd.melt(df, value_vars=['cholesterol', 'gluc', 'smoke', 'alco', 'active', 'overweight'])\n",
        "\n",
        "\n",
        "    # 6\n",
        "    df.rename(columns={'active': 'cardio'}, inplace=True)\n",
        "    df_cat = df_cat.groupby(['cardio', 'variable', 'value']).size().reset_index(name='count')\n",
        "\n",
        "\n",
        "    # 7\n",
        "    sns.catplot(\n",
        "    data=df, x=\"variable\", y=\"total\", col=\"cardio\",\n",
        "    kind=\"bar\", height=4, aspect=.6,\n",
        "    )\n",
        "\n",
        "\n",
        "    # 8\n",
        "    fig = None\n",
        "\n",
        "\n",
        "    # 9\n",
        "    fig.savefig('catplot.png')\n",
        "    return fig"
      ],
      "metadata": {
        "id": "Ic1-jvqLXVXa"
      },
      "execution_count": null,
      "outputs": []
    },
    {
      "cell_type": "code",
      "source": [
        "import pandas as pd\n",
        "import seaborn as sns\n",
        "import matplotlib.pyplot as plt\n",
        "\n",
        "# Sample data\n",
        "data = {\n",
        "    'cholesterol': [1, 2, 2],\n",
        "    'gluc': [1, 1, 2],\n",
        "    'smoke': [0, 1, 0],\n",
        "    'alco': [0, 0, 1],\n",
        "    'active': [1, 1, 0],  # Active will be renamed to Cardio\n",
        "    'overweight': [0, 1, 1]\n",
        "}\n",
        "\n",
        "df = pd.DataFrame(data)\n",
        "\n",
        "# Rename 'active' to 'cardio' in the original DataFrame\n",
        "df.rename(columns={'active': 'cardio'}, inplace=True)\n",
        "\n",
        "# Melt the updated DataFrame\n",
        "df_cat = pd.melt(df, id_vars=['cardio'], value_vars=['cholesterol', 'gluc', 'smoke', 'alco', 'overweight'])\n",
        "\n",
        "# Group by 'cardio', 'variable', and 'value', then count occurrences\n",
        "df_cat_grouped = df_cat.groupby(['cardio', 'variable', 'value']).size().reset_index(name='count')\n",
        "\n",
        "# Optionally rename 'variable' to 'features' if needed\n",
        "df_cat_grouped.rename(columns={'variable': 'features'}, inplace=True)\n",
        "\n",
        "# Create the catplot using Seaborn\n",
        "sns.catplot(\n",
        "    data=df_cat_grouped, x=\"features\", y=\"count\", col=\"cardio\",\n",
        "    kind=\"bar\", height=4, aspect=.6\n",
        ")\n",
        "\n",
        "plt.show()\n"
      ],
      "metadata": {
        "id": "KisFOd9DoBAs"
      },
      "execution_count": null,
      "outputs": []
    },
    {
      "cell_type": "code",
      "source": [
        "draw_cat_plot"
      ],
      "metadata": {
        "id": "4uP7Pc8Nmo5F"
      },
      "execution_count": null,
      "outputs": []
    },
    {
      "cell_type": "markdown",
      "source": [
        "## Code Submission\n",
        "---"
      ],
      "metadata": {
        "id": "2J5inn9DLkQQ"
      }
    },
    {
      "cell_type": "code",
      "source": [
        "import pandas as pd\n",
        "import seaborn as sns\n",
        "import matplotlib.pyplot as plt\n",
        "import numpy as np\n",
        "\n",
        "# 1\n",
        "df = None\n",
        "\n",
        "# 2\n",
        "df['overweight'] = None\n",
        "\n",
        "# 3\n",
        "\n",
        "\n",
        "# 4\n",
        "def draw_cat_plot():\n",
        "    # 5\n",
        "    df_cat = None\n",
        "\n",
        "\n",
        "    # 6\n",
        "    df_cat = None\n",
        "\n",
        "\n",
        "    # 7\n",
        "\n",
        "\n",
        "\n",
        "    # 8\n",
        "    fig = None\n",
        "\n",
        "\n",
        "    # 9\n",
        "    fig.savefig('catplot.png')\n",
        "    return fig\n",
        "\n",
        "\n",
        "# 10\n",
        "def draw_heat_map():\n",
        "    # 11\n",
        "    df_heat = None\n",
        "\n",
        "    # 12\n",
        "    corr = None\n",
        "\n",
        "    # 13\n",
        "    mask = None\n",
        "\n",
        "\n",
        "\n",
        "    # 14\n",
        "    fig, ax = None\n",
        "\n",
        "    # 15\n",
        "\n",
        "\n",
        "\n",
        "    # 16\n",
        "    fig.savefig('heatmap.png')\n",
        "    return fig\n"
      ],
      "metadata": {
        "id": "s3edEbgiLjwQ"
      },
      "execution_count": null,
      "outputs": []
    },
    {
      "cell_type": "markdown",
      "source": [
        "## Dataset analysis\n",
        "---"
      ],
      "metadata": {
        "id": "Ey5fgWiiWOps"
      }
    },
    {
      "cell_type": "code",
      "source": [
        "profiling = pd.read_csv('medical_examination.csv')"
      ],
      "metadata": {
        "id": "p0a4XMTdKSaW"
      },
      "execution_count": null,
      "outputs": []
    },
    {
      "cell_type": "code",
      "source": [
        "profiling.info()"
      ],
      "metadata": {
        "id": "8SXs19tbDigg"
      },
      "execution_count": null,
      "outputs": []
    },
    {
      "cell_type": "code",
      "source": [
        "profile = ProfileReport(profiling, title=\"Pandas Profiling Report\")\n",
        "profile"
      ],
      "metadata": {
        "id": "S2BSddup3r0g"
      },
      "execution_count": null,
      "outputs": []
    }
  ],
  "metadata": {
    "kernelspec": {
      "display_name": "Python 3",
      "language": "python",
      "name": "python3"
    },
    "language_info": {
      "codemirror_mode": {
        "name": "ipython",
        "version": 3
      },
      "file_extension": ".py",
      "mimetype": "text/x-python",
      "name": "python",
      "nbconvert_exporter": "python",
      "pygments_lexer": "ipython3",
      "version": "3.7.3"
    },
    "colab": {
      "provenance": []
    }
  },
  "nbformat": 4,
  "nbformat_minor": 0
}