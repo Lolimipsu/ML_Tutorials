{
  "cells": [
    {
      "cell_type": "markdown",
      "source": [
        "## Prerequisites\n",
        "---\n"
      ],
      "metadata": {
        "id": "GF0_dzyy-NFz"
      }
    },
    {
      "cell_type": "code",
      "source": [
        "!pip install ydata-profiling\n",
        "!pip install plotly\n"
      ],
      "metadata": {
        "id": "5HU7bxBq3kPs"
      },
      "execution_count": null,
      "outputs": []
    },
    {
      "cell_type": "code",
      "source": [
        "!wget https://raw.githubusercontent.com/Lolimipsu/ML_Tutorials/refs/heads/main/freecodecamp/Medical%20Data%20Visualizer/medical_examination.csv"
      ],
      "metadata": {
        "id": "KvKRuYE-VppM"
      },
      "execution_count": null,
      "outputs": []
    },
    {
      "cell_type": "code",
      "source": [
        "import pandas as pd\n",
        "import seaborn as sns\n",
        "import matplotlib.pyplot as plt\n",
        "import numpy as np\n",
        "\n",
        "import plotly.express as px\n",
        "from ydata_profiling import ProfileReport"
      ],
      "metadata": {
        "id": "6fICUbelI2gq"
      },
      "execution_count": null,
      "outputs": []
    },
    {
      "cell_type": "code",
      "source": [
        "from IPython.display import display\n",
        "pd.options.display.max_columns = None"
      ],
      "metadata": {
        "id": "EtDHWMTqjeVD"
      },
      "execution_count": null,
      "outputs": []
    },
    {
      "cell_type": "markdown",
      "source": [
        "## Task\n",
        "---"
      ],
      "metadata": {
        "id": "gZo2Hmm7-Wr5"
      }
    },
    {
      "cell_type": "markdown",
      "source": [
        "Import the data from medical_examination.csv and assign it to the df variable."
      ],
      "metadata": {
        "id": "3X5MXtCCW-N7"
      }
    },
    {
      "cell_type": "code",
      "source": [
        "df = pd.read_csv('medical_examination.csv')"
      ],
      "metadata": {
        "id": "XMao0a_U-s0Z"
      },
      "execution_count": null,
      "outputs": []
    },
    {
      "cell_type": "markdown",
      "source": [
        "Add an overweight column to the data. To determine if a person is overweight, first calculate their BMI by dividing their weight in kilograms by the square of their height in meters. If that value is > 25 then the person is overweight. Use the value 0 for NOT overweight and the value 1 for overweight."
      ],
      "metadata": {
        "id": "3c7S9OjLS8bY"
      }
    },
    {
      "cell_type": "code",
      "source": [
        "#getting bmi\n",
        "df['overweight'] = df['weight'] / (df['height'] / 100) **2\n",
        "df['overweight'] = df['overweight'].apply(lambda x: 1 if x > 25 else 0)"
      ],
      "metadata": {
        "id": "s3QFK2K4CjGN"
      },
      "execution_count": null,
      "outputs": []
    },
    {
      "cell_type": "markdown",
      "source": [
        "Normalize data by making 0 always good and 1 always bad. If the value of cholesterol or gluc is 1, set the value to 0. If the value is more than 1, set the value to 1."
      ],
      "metadata": {
        "id": "LaD4F4F6QY-c"
      }
    },
    {
      "cell_type": "code",
      "source": [
        "df['cholesterol'] = df['cholesterol'].apply(lambda x: 0 if x == 1 else 1 if x > 1 else 1)\n",
        "df['gluc'] = df['gluc'].apply(lambda x: 0 if x == 1 else 1 if x > 1 else 1)"
      ],
      "metadata": {
        "id": "v1rq8glHQHvu"
      },
      "execution_count": null,
      "outputs": []
    },
    {
      "cell_type": "markdown",
      "source": [
        "Draw the Categorical Plot in the draw_cat_plot function."
      ],
      "metadata": {
        "id": "CBj8QUZfWrNJ"
      }
    },
    {
      "cell_type": "code",
      "source": [
        "# 4\n",
        "def draw_cat_plot():\n",
        "    # 5\n",
        "    df_cat = pd.melt(df, id_vars=['cardio'], value_vars=['cholesterol', 'gluc', 'smoke', 'alco', 'active', 'overweight'])\n",
        "\n",
        "    # 6\n",
        "    df_cat = df_cat.groupby(['cardio', 'variable', 'value']).size().reset_index(name='count')\n",
        "    df_cat = df_cat.rename(columns={'count': 'total'})\n",
        "\n",
        "    # 7\n",
        "    sns.catplot(\n",
        "    data=df_cat, x=\"variable\", y=\"total\", hue='value', col=\"cardio\",\n",
        "    kind=\"bar\"\n",
        "    )\n",
        "\n",
        "    # 8\n",
        "    fig = plt.gcf()\n",
        "\n",
        "    # 9\n",
        "    fig.savefig('catplot.png')\n",
        "    return fig"
      ],
      "metadata": {
        "id": "Ic1-jvqLXVXa"
      },
      "execution_count": null,
      "outputs": []
    },
    {
      "cell_type": "code",
      "source": [
        "draw_cat_plot()"
      ],
      "metadata": {
        "id": "oQnwgfyD3YvI"
      },
      "execution_count": null,
      "outputs": []
    },
    {
      "cell_type": "markdown",
      "source": [
        "Draw the Heat Map in the draw_heat_map function."
      ],
      "metadata": {
        "id": "3xyJwrsDA2A2"
      }
    },
    {
      "cell_type": "code",
      "source": [
        "# 10\n",
        "def draw_heat_map():\n",
        "    # 11\n",
        "    # diastolic pressure is higher than systolic\n",
        "    df_heat = df[df['ap_lo'] <= df['ap_hi']]\n",
        "    # height is less than the 2.5th percentile\n",
        "    df_heat = df_heat[df_heat['height'] >= df_heat['height'].quantile(0.025)]\n",
        "    # height is more than the 97.5th percentile\n",
        "    df_heat = df_heat[df_heat['height'] <= df_heat['height'].quantile(0.975)]\n",
        "    # weight is less than the 2.5th percentile\n",
        "    df_heat = df_heat[df_heat['weight'] >= df_heat['weight'].quantile(0.025)]\n",
        "    # weight is more than the 97.5th percentile\n",
        "    df_heat = df_heat[df_heat['weight'] <= df_heat['weight'].quantile(0.975)]\n",
        "\n",
        "    # 12\n",
        "    corr = corr = round(df_heat.corr(method='pearson'), 1)\n",
        "\n",
        "    # 13\n",
        "    mask = np.triu(np.ones_like(corr, dtype=bool))\n",
        "\n",
        "    # 14\n",
        "    fig, ax = plt.subplots(figsize=(10,10))\n",
        "\n",
        "    # 15\n",
        "    ax = sns.heatmap(corr, annot = True, square = True, fmt = '0.2', mask=mask)\n",
        "\n",
        "    # 16\n",
        "    fig.savefig('heatmap.png')\n",
        "    return fig"
      ],
      "metadata": {
        "id": "RgmEpRchA4w2"
      },
      "execution_count": null,
      "outputs": []
    },
    {
      "cell_type": "code",
      "source": [
        "draw_heat_map()"
      ],
      "metadata": {
        "id": "YMX98fWILgWR"
      },
      "execution_count": null,
      "outputs": []
    },
    {
      "cell_type": "markdown",
      "source": [
        "## Code Submission\n",
        "---"
      ],
      "metadata": {
        "id": "2J5inn9DLkQQ"
      }
    },
    {
      "cell_type": "code",
      "source": [
        "import pandas as pd\n",
        "import seaborn as sns\n",
        "import matplotlib.pyplot as plt\n",
        "import numpy as np\n",
        "\n",
        "# 1\n",
        "df = pd.read_csv('medical_examination.csv')\n",
        "\n",
        "# 2\n",
        "df['overweight'] = df['weight'] / (df['height'] / 100) **2\n",
        "df['overweight'] = df['overweight'].apply(lambda x: 1 if x > 25 else 0)\n",
        "\n",
        "# 3\n",
        "df['cholesterol'] = df['cholesterol'].apply(lambda x: 0 if x == 1 else 1 if x > 1 else 1)\n",
        "df['gluc'] = df['gluc'].apply(lambda x: 0 if x == 1 else 1 if x > 1 else 1)\n",
        "\n",
        "# 4\n",
        "def draw_cat_plot():\n",
        "    # 5\n",
        "    df_cat = pd.melt(df, id_vars=['cardio'], value_vars=['cholesterol', 'gluc', 'smoke', 'alco', 'active', 'overweight'])\n",
        "\n",
        "    # 6\n",
        "    df_cat = df_cat.groupby(['cardio', 'variable', 'value']).size().reset_index(name='count')\n",
        "    df_cat = df_cat.rename(columns={'count': 'total'})\n",
        "\n",
        "    # 7\n",
        "    sns.catplot(\n",
        "    data=df_cat, x=\"variable\", y=\"total\", hue='value', col=\"cardio\",\n",
        "    kind=\"bar\"\n",
        "    )\n",
        "\n",
        "    # 8\n",
        "    fig = plt.gcf()\n",
        "\n",
        "    # 9\n",
        "    fig.savefig('catplot.png')\n",
        "    return fig\n",
        "\n",
        "\n",
        "# 10\n",
        "def draw_heat_map():\n",
        "    # 11\n",
        "    # diastolic pressure is higher than systolic\n",
        "    df_heat = df[df['ap_lo'] <= df['ap_hi']]\n",
        "    # height is less than the 2.5th percentile\n",
        "    df_heat = df_heat[df_heat['height'] >= df_heat['height'].quantile(0.025)]\n",
        "    # height is more than the 97.5th percentile\n",
        "    df_heat = df_heat[df_heat['height'] <= df_heat['height'].quantile(0.975)]\n",
        "    # weight is less than the 2.5th percentile\n",
        "    df_heat = df_heat[df_heat['weight'] >= df_heat['weight'].quantile(0.025)]\n",
        "    # weight is more than the 97.5th percentile\n",
        "    df_heat = df_heat[df_heat['weight'] <= df_heat['weight'].quantile(0.975)]\n",
        "\n",
        "    # 12\n",
        "    corr = corr = round(df_heat.corr(method='pearson'), 1)\n",
        "\n",
        "    # 13\n",
        "    mask = np.triu(np.ones_like(corr, dtype=bool))\n",
        "\n",
        "    # 14\n",
        "    fig, ax = plt.subplots(figsize=(10,10))\n",
        "\n",
        "    # 15\n",
        "    ax = sns.heatmap(corr, annot = True, square = True, fmt = '0.2', mask=mask)\n",
        "\n",
        "    # 16\n",
        "    fig.savefig('heatmap.png')\n",
        "    return fig\n"
      ],
      "metadata": {
        "id": "s3edEbgiLjwQ"
      },
      "execution_count": null,
      "outputs": []
    },
    {
      "cell_type": "markdown",
      "source": [
        "## Dataset analysis\n",
        "---"
      ],
      "metadata": {
        "id": "Ey5fgWiiWOps"
      }
    },
    {
      "cell_type": "code",
      "source": [
        "profiling = pd.read_csv('medical_examination.csv')"
      ],
      "metadata": {
        "id": "p0a4XMTdKSaW"
      },
      "execution_count": null,
      "outputs": []
    },
    {
      "cell_type": "code",
      "source": [
        "profiling.info()"
      ],
      "metadata": {
        "id": "8SXs19tbDigg"
      },
      "execution_count": null,
      "outputs": []
    },
    {
      "cell_type": "code",
      "source": [
        "profile = ProfileReport(profiling, title=\"Pandas Profiling Report\")\n",
        "profile"
      ],
      "metadata": {
        "id": "S2BSddup3r0g"
      },
      "execution_count": null,
      "outputs": []
    }
  ],
  "metadata": {
    "kernelspec": {
      "display_name": "Python 3",
      "language": "python",
      "name": "python3"
    },
    "language_info": {
      "codemirror_mode": {
        "name": "ipython",
        "version": 3
      },
      "file_extension": ".py",
      "mimetype": "text/x-python",
      "name": "python",
      "nbconvert_exporter": "python",
      "pygments_lexer": "ipython3",
      "version": "3.7.3"
    },
    "colab": {
      "provenance": []
    }
  },
  "nbformat": 4,
  "nbformat_minor": 0
}