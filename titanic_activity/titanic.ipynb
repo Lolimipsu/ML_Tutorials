{
 "cells": [
  {
   "cell_type": "markdown",
   "metadata": {},
   "source": [
    "***\n",
    "**Downloading CSV and intializing imports**\n",
    "==="
   ]
  },
  {
   "cell_type": "code",
   "execution_count": null,
   "metadata": {},
   "outputs": [],
   "source": [
    "# #@title Download CSV\n",
    "# #@markdown Supported URL types:\n",
    "# #@markdown * Google Drive zip\n",
    "# #@markdown * GitHub raw file\n",
    "\n",
    "# csv_file_link = \"https://github.com/codebasics/py/blob/master/ML/9_decision_tree/Exercise/titanic.csv\" #@param {type:\"string\"}\n",
    "# is_csv_from_github_comment = False #@param {type:\"boolean\"}\n",
    "\n",
    "# import gdown\n",
    "# import requests\n",
    "\n",
    "# csv_name = ''\n",
    "\n",
    "# if 'drive.google.com' in csv_file_link:\n",
    "#   url = csv_file_link\n",
    "#   url = url.replace('/file/d/', '/uc?id=').replace('/view?usp=sharing', '')\n",
    "#   gdown.download(url, quiet=False)\n",
    "\n",
    "# elif 'github.com' in csv_file_link and is_csv_from_github_comment is False:\n",
    "#   url = csv_file_link.replace('github.com', 'raw.githubusercontent.com').replace('/blob', '')\n",
    "#   response = requests.get(url)\n",
    "#   content = response.content\n",
    "#   output = url.split('/')[-1]\n",
    "#   with open(output, 'wb') as f:\n",
    "#       f.write(content)\n",
    "#       print('[', output, ']', 'downloaded succesfully')\n",
    "#       csv_name = output\n",
    "\n",
    "# elif 'github.com' in csv_file_link and is_csv_from_github_comment is True:\n",
    "#   url = csv_file_link\n",
    "#   response = requests.get(url)\n",
    "#   content = response.content\n",
    "#   output = url.split('/')[-1]\n",
    "#   with open(output, 'wb') as f:\n",
    "#       f.write(content)\n",
    "#       print('[', output, ']', 'downloaded successfully')\n",
    "#       csv_name = output"
   ]
  },
  {
   "cell_type": "code",
   "execution_count": null,
   "metadata": {},
   "outputs": [],
   "source": [
    "# df = pd.read_csv(csv_name)"
   ]
  },
  {
   "cell_type": "code",
   "execution_count": null,
   "metadata": {},
   "outputs": [],
   "source": [
    "import pandas as pd\n",
    "import numpy as np\n",
    "import matplotlib.pyplot as plt\n",
    "import seaborn as sns\n",
    "\n",
    "from sklearn import metrics\n",
    "from sklearn import tree\n",
    "\n",
    "from sklearn.linear_model import LogisticRegression\n",
    "from sklearn.tree import DecisionTreeClassifier\n",
    "from sklearn.ensemble import RandomForestClassifier\n",
    "\n",
    "from sklearn.impute import KNNImputer\n",
    "\n",
    "from sklearn.model_selection import train_test_split\n",
    "from sklearn.metrics import accuracy_score, recall_score, precision_score, f1_score, confusion_matrix, roc_curve, roc_auc_score\n",
    "from sklearn.preprocessing import OneHotEncoder"
   ]
  },
  {
   "cell_type": "code",
   "execution_count": null,
   "metadata": {},
   "outputs": [],
   "source": [
    "# * alternative df with more inputs (from 891 -> 1309)\n",
    "df = pd.read_csv('titanic3.csv')"
   ]
  },
  {
   "cell_type": "markdown",
   "metadata": {},
   "source": [
    "***\n",
    "**Data Visualization**\n",
    "==="
   ]
  },
  {
   "cell_type": "code",
   "execution_count": null,
   "metadata": {},
   "outputs": [],
   "source": [
    "df.describe(include = 'all')"
   ]
  },
  {
   "cell_type": "markdown",
   "metadata": {},
   "source": [
    "**Note:**\n",
    "\n",
    "Keep in mind that the Percentage of people who survived the Titanic disaster is only 38.2% of the 1309±1 passengers who boarded the ship\n",
    "see the chart below that includes the percentage of who survived and who died."
   ]
  },
  {
   "cell_type": "code",
   "execution_count": null,
   "metadata": {},
   "outputs": [],
   "source": [
    "deceased_percentage = (df['survived'] == 0).sum() / len(df) * 100\n",
    "survival_percentage = (df['survived'] == 1).sum() / len(df) * 100\n",
    "print(f\"Deceased in percentage: {deceased_percentage:.1f}%\")\n",
    "print(f\"Survived in percentage: {survival_percentage:.1f}%\")\n",
    "\n",
    "# Count the number of survivors and non-survivors\n",
    "survival_counts = df['survived'].value_counts()\n",
    "\n",
    "# Create a bar plot\n",
    "plt.figure(figsize=(6, 4))\n",
    "plt.bar(survival_counts.index, survival_counts.values, color=['tab:blue', 'tab:orange'])\n",
    "plt.xlabel('Survival Status')\n",
    "plt.ylabel('Count')\n",
    "plt.title('Overall Survival')\n",
    "plt.xticks([0, 1], ['Deceased', 'Survived'])\n",
    "plt.show()\n"
   ]
  },
  {
   "cell_type": "code",
   "execution_count": null,
   "metadata": {},
   "outputs": [],
   "source": [
    "# Create the bar plot\n",
    "plt.figure(figsize=(8, 6))\n",
    "df.groupby('pclass')['survived'].value_counts().unstack().plot(kind='bar')\n",
    "plt.xlabel('Passenger Class')\n",
    "plt.ylabel('Count')\n",
    "plt.title('Survival Status by Passenger Class')\n",
    "plt.legend(title='Survived', labels=['Deceased(0)', 'Survived(1)'])\n",
    "plt.show()"
   ]
  },
  {
   "cell_type": "code",
   "execution_count": null,
   "metadata": {},
   "outputs": [],
   "source": [
    "# Create the bar plot\n",
    "plt.figure(figsize=(8, 6))\n",
    "df.groupby('sex')['survived'].value_counts().unstack().plot(kind='bar')\n",
    "plt.xlabel('Passenger Sex type')\n",
    "plt.ylabel('Count')\n",
    "plt.title('Survival Status by Passenger Sex type')\n",
    "plt.legend(title='Survived', labels=['Deceased(0)', 'Survived(1)'])\n",
    "plt.show()"
   ]
  },
  {
   "cell_type": "code",
   "execution_count": null,
   "metadata": {},
   "outputs": [],
   "source": [
    "# creating new instance so it's separate case fromm the original DataFrame\n",
    "df_age_group = df.copy()\n",
    "\n",
    "bins = [0, 10, 20, 30, 40, 50, 60, 70, 80]\n",
    "labels = ['0-10', '10-20', '20-30', '30-40', '40-50', '50-60', '60-70', '70-80']\n",
    "\n",
    "df_age_group['Age_Group'] = pd.cut(df_age_group['age'], bins=bins, labels=labels, right=False)\n",
    "\n",
    "grouped_df = df_age_group.groupby(['Age_Group', 'survived'], observed=True).size().unstack(fill_value=0)\n",
    "\n",
    "plt.figure(figsize=(8, 6))\n",
    "grouped_df.plot(kind='bar', width=0.7)\n",
    "plt.xlabel('Passenger Class')\n",
    "plt.ylabel('Count')\n",
    "plt.title('Survival Status by Passenger Class')\n",
    "plt.legend(title='Survived', labels=['Deceased(0)', 'Survived(1)'])\n",
    "plt.show()\n"
   ]
  },
  {
   "cell_type": "code",
   "execution_count": null,
   "metadata": {},
   "outputs": [],
   "source": [
    "# creating new instance so it's separate case fromm the original DataFrame\n",
    "df_sibsp = df.copy()\n",
    "\n",
    "bins = [0, 1, 2, 3, 4, 5, 6, 7, 8]\n",
    "labels = ['0-1', '1-2', '2-3', '3-4', '4-5', '5-6', '6-7', '7-8']\n",
    "\n",
    "df_sibsp['sibsp_Group'] = pd.cut(df_sibsp['sibsp'], bins=bins, labels=labels, right=False)\n",
    "\n",
    "grouped_df = df_sibsp.groupby(['sibsp_Group', 'survived'], observed=True).size().unstack(fill_value=0)\n",
    "\n",
    "plt.figure(figsize=(8, 6))\n",
    "grouped_df.plot(kind='bar', width=0.7)\n",
    "plt.xlabel('Sibling / Spouse')\n",
    "plt.ylabel('Count')\n",
    "plt.title('Survival Status by # of Passenger Sibling / Spouse')\n",
    "plt.legend(title='Survived', labels=['Deceased(0)', 'Survived(1)'])\n",
    "plt.show()\n"
   ]
  },
  {
   "cell_type": "code",
   "execution_count": null,
   "metadata": {},
   "outputs": [],
   "source": [
    "df_fare = df.copy()\n",
    "\n",
    "bins = [0,7.90,14.45,31.28,120]\n",
    "labels = ['Low','Mid','High_Mid','High']\n",
    "\n",
    "df_fare['fare_Group'] = pd.cut(df_fare['fare'], bins=bins, labels=labels)\n",
    "\n",
    "grouped_df = df_fare.groupby(['fare_Group', 'survived'], observed=True).size().unstack(fill_value=0)\n",
    "\n",
    "plt.figure(figsize=(8, 6))\n",
    "grouped_df.plot(kind='bar', width=0.7)\n",
    "plt.xlabel('Passenger Fare')\n",
    "plt.ylabel('Count')\n",
    "plt.title('Survival Status by Passenger Fare')\n",
    "plt.legend(title='Survived', labels=['Deceased(0)', 'Survived(1)'])\n",
    "plt.show()\n"
   ]
  },
  {
   "cell_type": "markdown",
   "metadata": {},
   "source": [
    "***\n",
    "**Data Preprocessing**\n",
    "==="
   ]
  },
  {
   "cell_type": "code",
   "execution_count": null,
   "metadata": {},
   "outputs": [],
   "source": [
    "sns.heatmap(df.isnull(), cbar = False).set_title(\"Missing values heatmap\")"
   ]
  },
  {
   "cell_type": "markdown",
   "metadata": {},
   "source": [
    "In this part of the code we can see there are many unique variables, the ones we'll likely use are the following:\n",
    "\n",
    "TARGET VARIABLE:\n",
    "\n",
    "SURVIVED\n",
    "\n",
    "FEATURE VARIABLES:\n",
    "\n",
    "PCLASS, SEX, AGE, SIBSP(?), FARE,(to be changed)"
   ]
  },
  {
   "cell_type": "code",
   "execution_count": null,
   "metadata": {},
   "outputs": [],
   "source": [
    "df.nunique()"
   ]
  },
  {
   "cell_type": "code",
   "execution_count": null,
   "metadata": {},
   "outputs": [],
   "source": [
    "# df.describe(include = 'all')"
   ]
  },
  {
   "cell_type": "markdown",
   "metadata": {},
   "source": [
    "It is observed that there are a lot of missing values in our dataset, We'll clean them in the DATA CLEANING part\n",
    "Target:\n",
    "- delete the following: [name, ticket, cabin, boat, body, home.dest]\n",
    "- use mean method for the following: [pclass, survived, sex, sibsp, parch, fare, ]"
   ]
  },
  {
   "cell_type": "code",
   "execution_count": null,
   "metadata": {},
   "outputs": [],
   "source": [
    "print(df.isnull().sum())"
   ]
  }
 ],
 "metadata": {
  "kernelspec": {
   "display_name": ".venv",
   "language": "python",
   "name": "python3"
  },
  "language_info": {
   "codemirror_mode": {
    "name": "ipython",
    "version": 3
   },
   "file_extension": ".py",
   "mimetype": "text/x-python",
   "name": "python",
   "nbconvert_exporter": "python",
   "pygments_lexer": "ipython3",
   "version": "3.11.5"
  }
 },
 "nbformat": 4,
 "nbformat_minor": 2
}
