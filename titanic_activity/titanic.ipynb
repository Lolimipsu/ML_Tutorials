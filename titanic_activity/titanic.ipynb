{
 "cells": [
  {
   "cell_type": "markdown",
   "metadata": {},
   "source": [
    "***\n",
    "**Downloading CSV and intializing imports**\n",
    "==="
   ]
  },
  {
   "cell_type": "code",
   "execution_count": null,
   "metadata": {},
   "outputs": [],
   "source": [
    "# #@title Download CSV\n",
    "# #@markdown Supported URL types:\n",
    "# #@markdown * Google Drive zip\n",
    "# #@markdown * GitHub raw file\n",
    "\n",
    "# csv_file_link = \"https://github.com/codebasics/py/blob/master/ML/9_decision_tree/Exercise/titanic.csv\" #@param {type:\"string\"}\n",
    "# is_csv_from_github_comment = False #@param {type:\"boolean\"}\n",
    "\n",
    "# import gdown\n",
    "# import requests\n",
    "\n",
    "# csv_name = ''\n",
    "\n",
    "# if 'drive.google.com' in csv_file_link:\n",
    "#   url = csv_file_link\n",
    "#   url = url.replace('/file/d/', '/uc?id=').replace('/view?usp=sharing', '')\n",
    "#   gdown.download(url, quiet=False)\n",
    "\n",
    "# elif 'github.com' in csv_file_link and is_csv_from_github_comment is False:\n",
    "#   url = csv_file_link.replace('github.com', 'raw.githubusercontent.com').replace('/blob', '')\n",
    "#   response = requests.get(url)\n",
    "#   content = response.content\n",
    "#   output = url.split('/')[-1]\n",
    "#   with open(output, 'wb') as f:\n",
    "#       f.write(content)\n",
    "#       print('[', output, ']', 'downloaded succesfully')\n",
    "#       csv_name = output\n",
    "\n",
    "# elif 'github.com' in csv_file_link and is_csv_from_github_comment is True:\n",
    "#   url = csv_file_link\n",
    "#   response = requests.get(url)\n",
    "#   content = response.content\n",
    "#   output = url.split('/')[-1]\n",
    "#   with open(output, 'wb') as f:\n",
    "#       f.write(content)\n",
    "#       print('[', output, ']', 'downloaded successfully')\n",
    "#       csv_name = output"
   ]
  },
  {
   "cell_type": "code",
   "execution_count": null,
   "metadata": {},
   "outputs": [],
   "source": [
    "# df = pd.read_csv(csv_name)"
   ]
  },
  {
   "cell_type": "code",
   "execution_count": null,
   "metadata": {},
   "outputs": [],
   "source": [
    "import pandas as pd\n",
    "import numpy as np\n",
    "import matplotlib.pyplot as plt\n",
    "import seaborn as sns\n",
    "\n",
    "from sklearn import metrics\n",
    "from sklearn import tree\n",
    "\n",
    "from sklearn.linear_model import LogisticRegression\n",
    "from sklearn.tree import DecisionTreeClassifier\n",
    "from sklearn.ensemble import RandomForestClassifier\n",
    "\n",
    "from sklearn.impute import KNNImputer\n",
    "\n",
    "from sklearn.model_selection import train_test_split\n",
    "from sklearn.metrics import accuracy_score, recall_score, precision_score, f1_score, confusion_matrix, roc_curve, roc_auc_score\n",
    "from sklearn.preprocessing import OneHotEncoder"
   ]
  },
  {
   "cell_type": "code",
   "execution_count": null,
   "metadata": {},
   "outputs": [],
   "source": [
    "# * alternative df with more inputs (from 891 -> 1309)\n",
    "df = pd.read_csv('titanic3.csv')"
   ]
  },
  {
   "cell_type": "markdown",
   "metadata": {},
   "source": [
    "***\n",
    "**Data Visualization**\n",
    "==="
   ]
  },
  {
   "cell_type": "code",
   "execution_count": null,
   "metadata": {},
   "outputs": [],
   "source": [
    "df.describe(include = 'all')"
   ]
  },
  {
   "cell_type": "markdown",
   "metadata": {},
   "source": [
    "**Note:**\n",
    "\n",
    "Keep in mind that the Percentage of people who survived the Titanic disaster is only 38.2% of the 1309±1 passengers who boarded the ship\n",
    "see the chart below that includes the percentage of who survived and who died."
   ]
  },
  {
   "cell_type": "code",
   "execution_count": null,
   "metadata": {},
   "outputs": [],
   "source": [
    "deceased_percentage = (df['survived'] == 0).sum() / len(df) * 100\n",
    "survival_percentage = (df['survived'] == 1).sum() / len(df) * 100\n",
    "print(f\"Deceased in percentage: {deceased_percentage:.1f}%\")\n",
    "print(f\"Survived in percentage: {survival_percentage:.1f}%\")\n",
    "\n",
    "# Count the number of survivors and non-survivors\n",
    "survival_counts = df['survived'].value_counts()\n",
    "\n",
    "# Create a bar plot\n",
    "plt.figure(figsize=(6, 4))\n",
    "plt.bar(survival_counts.index, survival_counts.values, color=['tab:blue', 'tab:orange'])\n",
    "plt.xlabel('Survival Status')\n",
    "plt.ylabel('Count')\n",
    "plt.title('Overall Survival')\n",
    "plt.xticks([0, 1], ['Deceased', 'Survived'])\n",
    "plt.show()\n"
   ]
  },
  {
   "cell_type": "markdown",
   "metadata": {},
   "source": [
    "And as we can see here, people from class 1 are prioritized over class 2 and 3, the survivavility for class 2 and 3 are considerably lower than those in class one, the ratio of death is higher than those who survived.\n",
    "\n",
    "meanwhile those in class 3 the mortality rate is higher than suvivability (500+ died, meanwhile only 180+ survived)"
   ]
  },
  {
   "cell_type": "code",
   "execution_count": null,
   "metadata": {},
   "outputs": [],
   "source": [
    "# Create the bar plot\n",
    "plt.figure(figsize=(8, 6))\n",
    "df.groupby('pclass')['survived'].value_counts().unstack().plot(kind='bar')\n",
    "plt.xlabel('Passenger Class')\n",
    "plt.ylabel('Count')\n",
    "plt.title('Survival Status by Passenger Class')\n",
    "plt.legend(title='Survived', labels=['Deceased(0)', 'Survived(1)'])\n",
    "plt.show()"
   ]
  },
  {
   "cell_type": "markdown",
   "metadata": {},
   "source": [
    "Aside from people from class 1 are prioritized, it is believed that \"WOMEN AND CHILDREN\" are first to board the life rafts, which the figure below proves it\n",
    "Women were prioritized to board the life boats since we can see that the bar chart below that the number of women who survived are greater than those who did not.\n",
    "\n",
    "meanwhile the mortality rate for the men are greater than the survivability."
   ]
  },
  {
   "cell_type": "code",
   "execution_count": null,
   "metadata": {},
   "outputs": [],
   "source": [
    "# Create the bar plot\n",
    "plt.figure(figsize=(8, 6))\n",
    "df.groupby('sex')['survived'].value_counts().unstack().plot(kind='bar')\n",
    "plt.xlabel('Sex type')\n",
    "plt.ylabel('Count')\n",
    "plt.title('Survival Status by Passenger Sex type')\n",
    "plt.legend(title='Survived', labels=['Deceased(0)', 'Survived(1)'])\n",
    "plt.show()"
   ]
  },
  {
   "cell_type": "markdown",
   "metadata": {},
   "source": [
    "And like I've said earlier, \"WOMEN AND CHILDREN\" were prioritized to board the life rafts, so we can see here that CHILDREN have higher numbers of who survived and those who died."
   ]
  },
  {
   "cell_type": "code",
   "execution_count": null,
   "metadata": {},
   "outputs": [],
   "source": [
    "# creating new instance so it's separate case fromm the original DataFrame\n",
    "df_visuals = df.copy()"
   ]
  },
  {
   "cell_type": "code",
   "execution_count": null,
   "metadata": {},
   "outputs": [],
   "source": [
    "age_bins = [0, 10, 20, 30, 40, 50, 60, 70, 80]\n",
    "age_labels = ['0-10', '10-20', '20-30', '30-40', '40-50', '50-60', '60-70', '70-80']\n",
    "\n",
    "df_visuals['Age_Group'] = pd.cut(df_visuals['age'], bins=age_bins, labels=age_labels, right=False)\n",
    "\n",
    "grouped_df = df_visuals.groupby(['Age_Group', 'survived'], observed=True).size().unstack(fill_value=0)\n",
    "\n",
    "plt.figure(figsize=(8, 6))\n",
    "grouped_df.plot(kind='bar', width=0.7)\n",
    "plt.xlabel('Passenger Age')\n",
    "plt.ylabel('Count')\n",
    "plt.title('Survival Status by Passenger Age')\n",
    "plt.legend(title='Survived', labels=['Deceased(0)', 'Survived(1)'])\n",
    "plt.show()\n"
   ]
  },
  {
   "cell_type": "code",
   "execution_count": null,
   "metadata": {},
   "outputs": [],
   "source": [
    "sibsp_bins = [0, 1, 2, 3, 4, 5, 6, 7, 8]\n",
    "sibsp_labels = ['0-1', '1-2', '2-3', '3-4', '4-5', '5-6', '6-7', '7-8']\n",
    "\n",
    "df_visuals['sibsp_Group'] = pd.cut(df_visuals['sibsp'], bins=sibsp_bins, labels=sibsp_labels, right=False)\n",
    "\n",
    "grouped_df = df_visuals.groupby(['sibsp_Group', 'survived'], observed=True).size().unstack(fill_value=0)\n",
    "\n",
    "plt.figure(figsize=(8, 6))\n",
    "grouped_df.plot(kind='bar', width=0.7)\n",
    "plt.xlabel('Sibling / Spouse')\n",
    "plt.ylabel('Count')\n",
    "plt.title('Survival Status by # of Passenger Sibling / Spouse')\n",
    "plt.legend(title='Survived', labels=['Deceased(0)', 'Survived(1)'])\n",
    "plt.show()\n"
   ]
  },
  {
   "cell_type": "code",
   "execution_count": null,
   "metadata": {},
   "outputs": [],
   "source": [
    "fare_bins = [0,7.90,14.45,31.28,120]\n",
    "fare_labels = ['Low','Mid','High_Mid','High']\n",
    "\n",
    "df_visuals['fare_Group'] = pd.cut(df_visuals['fare'], bins=fare_bins, labels=fare_labels)\n",
    "\n",
    "grouped_df = df_visuals.groupby(['fare_Group', 'survived'], observed=True).size().unstack(fill_value=0)\n",
    "\n",
    "plt.figure(figsize=(8, 6))\n",
    "grouped_df.plot(kind='bar', width=0.7)\n",
    "plt.xlabel('Passenger Fare')\n",
    "plt.ylabel('Count')\n",
    "plt.title('Survival Status by Passenger Fare')\n",
    "plt.legend(title='Survived', labels=['Deceased(0)', 'Survived(1)'])\n",
    "plt.show()\n"
   ]
  },
  {
   "cell_type": "markdown",
   "metadata": {},
   "source": [
    "***\n",
    "**Data Preprocessing**\n",
    "==="
   ]
  },
  {
   "cell_type": "code",
   "execution_count": null,
   "metadata": {},
   "outputs": [],
   "source": [
    "sns.heatmap(df.isnull(), cbar = False).set_title(\"Missing values heatmap\")"
   ]
  },
  {
   "cell_type": "markdown",
   "metadata": {},
   "source": [
    "In this part of the code we can see there are many unique variables, the ones we'll likely use are the following:\n",
    "\n",
    "TARGET VARIABLE:\n",
    "\n",
    "SURVIVED\n",
    "\n",
    "FEATURE VARIABLES:\n",
    "\n",
    "PCLASS, SEX, AGE, SIBSP(?), FARE,(to be changed)"
   ]
  },
  {
   "cell_type": "code",
   "execution_count": null,
   "metadata": {},
   "outputs": [],
   "source": [
    "df.nunique()"
   ]
  },
  {
   "cell_type": "code",
   "execution_count": null,
   "metadata": {},
   "outputs": [],
   "source": [
    "# df.describe(include = 'all')"
   ]
  },
  {
   "cell_type": "markdown",
   "metadata": {},
   "source": [
    "It is observed that there are a lot of missing values in our dataset, We'll clean them in the DATA CLEANING part\n",
    "Target:\n",
    "- delete the following: [name, ticket, cabin, boat, body, home.dest]\n",
    "- use mean method for the following: [pclass, survived, sex, sibsp, parch, fare, ]"
   ]
  },
  {
   "cell_type": "code",
   "execution_count": null,
   "metadata": {},
   "outputs": [],
   "source": [
    "print(df.isnull().sum())"
   ]
  }
 ],
 "metadata": {
  "kernelspec": {
   "display_name": ".venv",
   "language": "python",
   "name": "python3"
  },
  "language_info": {
   "codemirror_mode": {
    "name": "ipython",
    "version": 3
   },
   "file_extension": ".py",
   "mimetype": "text/x-python",
   "name": "python",
   "nbconvert_exporter": "python",
   "pygments_lexer": "ipython3",
   "version": "3.11.5"
  }
 },
 "nbformat": 4,
 "nbformat_minor": 2
}
