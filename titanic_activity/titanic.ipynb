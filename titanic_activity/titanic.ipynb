{
 "cells": [
  {
   "cell_type": "markdown",
   "metadata": {},
   "source": [
    "***\n",
    "**Downloading CSV and intializing imports**\n",
    "==="
   ]
  },
  {
   "cell_type": "code",
   "execution_count": null,
   "metadata": {},
   "outputs": [],
   "source": [
    "#@title Download CSV\n",
    "#@markdown Supported URL types:\n",
    "#@markdown * Google Drive zip\n",
    "#@markdown * GitHub raw file\n",
    "\n",
    "csv_file_link = \"https://github.com/codebasics/py/blob/master/ML/9_decision_tree/Exercise/titanic.csv\" #@param {type:\"string\"}\n",
    "is_csv_from_github_comment = False #@param {type:\"boolean\"}\n",
    "\n",
    "import gdown\n",
    "import requests\n",
    "\n",
    "csv_name = ''\n",
    "\n",
    "if 'drive.google.com' in csv_file_link:\n",
    "  url = csv_file_link\n",
    "  url = url.replace('/file/d/', '/uc?id=').replace('/view?usp=sharing', '')\n",
    "  gdown.download(url, quiet=False)\n",
    "\n",
    "elif 'github.com' in csv_file_link and is_csv_from_github_comment is False:\n",
    "  url = csv_file_link.replace('github.com', 'raw.githubusercontent.com').replace('/blob', '')\n",
    "  response = requests.get(url)\n",
    "  content = response.content\n",
    "  output = url.split('/')[-1]\n",
    "  with open(output, 'wb') as f:\n",
    "      f.write(content)\n",
    "      print('[', output, ']', 'downloaded succesfully')\n",
    "      csv_name = output\n",
    "\n",
    "elif 'github.com' in csv_file_link and is_csv_from_github_comment is True:\n",
    "  url = csv_file_link\n",
    "  response = requests.get(url)\n",
    "  content = response.content\n",
    "  output = url.split('/')[-1]\n",
    "  with open(output, 'wb') as f:\n",
    "      f.write(content)\n",
    "      print('[', output, ']', 'downloaded successfully')\n",
    "      csv_name = output"
   ]
  },
  {
   "cell_type": "code",
   "execution_count": null,
   "metadata": {},
   "outputs": [],
   "source": [
    "import pandas as pd\n",
    "import numpy as np\n",
    "import matplotlib.pyplot as plt\n",
    "import seaborn as sns\n",
    "\n",
    "from sklearn import metrics\n",
    "from sklearn import tree\n",
    "\n",
    "from sklearn.linear_model import LogisticRegression\n",
    "from sklearn.tree import DecisionTreeClassifier\n",
    "from sklearn.ensemble import RandomForestClassifier\n",
    "\n",
    "from sklearn.impute import KNNImputer\n",
    "\n",
    "from sklearn.model_selection import train_test_split\n",
    "from sklearn.metrics import accuracy_score, recall_score, precision_score, f1_score, confusion_matrix, roc_curve, roc_auc_score\n",
    "from sklearn.preprocessing import OneHotEncoder"
   ]
  },
  {
   "cell_type": "code",
   "execution_count": null,
   "metadata": {},
   "outputs": [],
   "source": [
    "df = pd.read_csv(csv_name)"
   ]
  },
  {
   "cell_type": "markdown",
   "metadata": {},
   "source": [
    "***\n",
    "**Data Visualization**\n",
    "==="
   ]
  },
  {
   "cell_type": "code",
   "execution_count": null,
   "metadata": {},
   "outputs": [],
   "source": [
    "# * alt df\n",
    "df = pd.read_csv('titanic3.csv')"
   ]
  },
  {
   "cell_type": "code",
   "execution_count": null,
   "metadata": {},
   "outputs": [],
   "source": [
    "df.head()"
   ]
  },
  {
   "cell_type": "code",
   "execution_count": null,
   "metadata": {},
   "outputs": [],
   "source": [
    "df.describe(include = 'all')"
   ]
  },
  {
   "cell_type": "code",
   "execution_count": null,
   "metadata": {},
   "outputs": [],
   "source": [
    "sns.heatmap(df.isnull(), cbar = False).set_title(\"Missing values heatmap\")"
   ]
  },
  {
   "cell_type": "markdown",
   "metadata": {},
   "source": [
    "In this part of the code we can see there are many unique variables, the ones we'll likely use are the following:\n",
    "\n",
    "TARGET VARIABLE:\n",
    "SURVIVED\n",
    "\n",
    "FEATURE VARIABLES:\n",
    "PCLASS, SEX, AGE, SIBSP(?), FARE,"
   ]
  },
  {
   "cell_type": "code",
   "execution_count": null,
   "metadata": {},
   "outputs": [],
   "source": [
    "df.nunique()"
   ]
  }
 ],
 "metadata": {
  "kernelspec": {
   "display_name": ".venv",
   "language": "python",
   "name": "python3"
  },
  "language_info": {
   "codemirror_mode": {
    "name": "ipython",
    "version": 3
   },
   "file_extension": ".py",
   "mimetype": "text/x-python",
   "name": "python",
   "nbconvert_exporter": "python",
   "pygments_lexer": "ipython3",
   "version": "3.11.5"
  }
 },
 "nbformat": 4,
 "nbformat_minor": 2
}
